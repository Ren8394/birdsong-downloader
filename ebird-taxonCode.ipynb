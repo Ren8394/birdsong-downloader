{
 "cells": [
  {
   "cell_type": "code",
   "execution_count": 1,
   "metadata": {},
   "outputs": [],
   "source": [
    "import pandas as pd\n",
    "\n",
    "from pathlib import Path"
   ]
  },
  {
   "cell_type": "code",
   "execution_count": 2,
   "metadata": {},
   "outputs": [],
   "source": [
    "eBirdOfficeDF = pd.read_csv(\n",
    "  Path.cwd().joinpath('assets', 'eBird_Taxonomy_v2021.csv'), header=0\n",
    ")\n",
    "species = pd.read_csv(\n",
    "  Path.cwd().joinpath('assets', 'species.txt'), sep='\\t', header=0\n",
    ")"
   ]
  },
  {
   "cell_type": "code",
   "execution_count": 3,
   "metadata": {},
   "outputs": [],
   "source": [
    "codeDF = pd.DataFrame(columns=['code', 'eBird Code', 'sci Name'])\n",
    "for _, row in species.iterrows():\n",
    "  scienceName = f'{row[\"Generic Name\"]} {row[\"Specific Name\"]}'\n",
    "  taxonCode = eBirdOfficeDF.loc[eBirdOfficeDF['SCI_NAME'] == scienceName, 'SPECIES_CODE'].to_list()[0]\n",
    "  codeDF = pd.concat(\n",
    "    [codeDF, pd.DataFrame({\n",
    "      'code': row['Code'],\n",
    "      'eBird Code': taxonCode, \n",
    "      'sci Name': f'{row[\"Generic Name\"]}+{row[\"Specific Name\"]}'\n",
    "    }, index=[0])],\n",
    "    ignore_index=True\n",
    "  )\n",
    "codeDF.to_csv(Path.cwd().joinpath('assets', 'code.csv'), header=True, index=False)\n",
    "\"\"\"\n",
    "Warning: \n",
    "  Because of the science name of CR in eBird and Xeno-Canto is different,\n",
    "  we change its name manually.\n",
    "  (CR - eBird)      >> Cyanoderma\truficeps\n",
    "  (CR - XenoCanto)  >> Stachyridopsis ruficeps\n",
    "\"\"\""
   ]
  }
 ],
 "metadata": {
  "interpreter": {
   "hash": "16cde9edead98fbb4f9a3aa8cbf0f3b02189530cb19b61c794fe578526a87050"
  },
  "kernelspec": {
   "display_name": "Python 3.10.4 ('crawler')",
   "language": "python",
   "name": "python3"
  },
  "language_info": {
   "codemirror_mode": {
    "name": "ipython",
    "version": 3
   },
   "file_extension": ".py",
   "mimetype": "text/x-python",
   "name": "python",
   "nbconvert_exporter": "python",
   "pygments_lexer": "ipython3",
   "version": "3.10.4"
  },
  "orig_nbformat": 4
 },
 "nbformat": 4,
 "nbformat_minor": 2
}
